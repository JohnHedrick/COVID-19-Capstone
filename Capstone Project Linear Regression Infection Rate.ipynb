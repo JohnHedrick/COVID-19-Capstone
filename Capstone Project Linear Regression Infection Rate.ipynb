{
 "cells": [
  {
   "cell_type": "code",
   "execution_count": 1,
   "metadata": {},
   "outputs": [],
   "source": [
    "import numpy as np\n",
    "import matplotlib.pyplot as plt\n",
    "from sklearn.linear_model import LinearRegression"
   ]
  },
  {
   "cell_type": "code",
   "execution_count": 2,
   "metadata": {},
   "outputs": [],
   "source": [
    "x = np.array([1,2,3,4,5,6,7,8,9,10,11,12,13,14,15,16,17,18,19,20,21,22,23,24,25,26,27,28,29,30,31,32,33,34,35,36,37,38,39,40,41,42,43,44,45,46,47,48,49,50,51,52,53,54,55,56,57,58,59,60,61,62,63,64,65,66,67,68,69,70,71,72,73,74,75,76,77,78,79,80,81,82,83,84,85,86,87,88,89,90,91,92,93,94,95,96,97,98,99,100,101,102,103,104,105,106,107,108,109,110,111,112,113,114,115,116,117,118,119,120,121,122,123,124,125,126,127,128,129,130,131,132,133,134,135,136,137,138,139,140,141,142,143,144,145,146,147,148,149,150,151,152,153,154,155,156,157,158,159,160,161,162,163,164,165,166,167,168,169,170,171,172,173,174,175,176,177,178,179,180,181,182,183,184,185,186,187,188,189,190,191,192,193,194,195,196,197,198,199,200,201,202,203,204,205,206,207,208,209,210,211,212,213,214,215,216,217,218,219,220,221,222,223,224,225,226,227,228,229,230,231,232,233,234,235,236,237,238,239,240,241,242,243,244,245,246,247,248,249,250,251,252,253,254,255,256,257,258,259,260,261,262,263,264,265,266,267,268,269,270,271,272,273,274,275,276,277,278,279,280,281,282,283])\n",
    "y = np.array([2.30,2.28,2.25,2.22,2.18,2.14,2.09,2.04,1.99,1.93,1.87,1.81,1.75,1.69,1.63,1.58,1.53,1.48,1.44,1.40,1.36,1.33,1.30,1.27,1.24,1.22,1.21,1.19,1.17,1.16,1.15,1.14,1.13,1.12,1.11,1.10,1.09,1.08,1.08,1.07,1.06,1.06,1.05,1.04,1.04,1.03,1.02,1.01,1.01,1.00,1.00,0.99,0.98,0.97,0.97,0.96,0.95,0.94,0.93,0.93,0.92,0.91,0.90,0.90,0.89,0.88,0.87,0.87,0.86,0.85,0.85,0.84,0.83,0.83,0.83,0.82,0.82,0.82,0.82,0.82,0.82,0.82,0.83,0.83,0.84,0.85,0.86,0.87,0.88,0.89,0.91,0.92,0.93,0.95,0.96,0.97,0.99,1.00,1.01,1.02,1.03,1.04,1.05,1.06,1.06,1.07,1.08,1.08,1.09,1.09,1.09,1.09,1.09,1.09,1.08,1.08,1.08,1.07,1.07,1.07,1.06,1.06,1.06,1.05,1.05,1.05,1.04,1.04,1.03,1.03,1.02,1.02,1.01,1.00,1.00,0.99,0.98,0.98,0.98,0.97,0.97,0.96,0.96,0.96,0.96,0.97,0.97,0.98,0.98,0.98,0.99,1.00,1.00,1.01,1.02,1.02,1.03,1.03,1.03,1.04,1.04,1.04,1.03,1.03,1.03,1.02,1.02,1.01,1.00,0.99,0.98,0.97,0.96,0.95,0.94,0.94,0.93,0.93,0.92,0.92,0.92,0.91,0.91,0.91,0.92,0.92,0.92,0.93,0.93,0.94,0.95,0.95,0.96,0.97,0.97,0.98,0.99,1.00,1.01,1.02,1.02,1.03,1.04,1.04,1.05,1.05,1.05,1.06,1.06,1.06,1.06,1.06,1.06,1.06,1.07,1.07,1.07,1.07,1.07,1.08,1.08,1.08,1.08,1.09,1.09,1.09,1.09,1.09,1.10,1.10,1.10,1.10,1.10,1.10,1.10,1.10,1.10,1.09,1.09,1.09,1.09,1.09,1.09,1.09,1.10,1.10,1.10,1.10,1.10,1.10,1.10,1.10,1.09,1.09,1.08,1.07,1.07,1.06,1.05,1.04,1.03,1.03,1.02,1.02,1.02,1.01,1.01,1.01,1.01,1.01,1.01,1.01,1.02,1.02,1.03,1.03,1.04,1.04,1.05,1.05,1.06,1.06,1.06])"
   ]
  },
  {
   "cell_type": "code",
   "execution_count": 3,
   "metadata": {},
   "outputs": [],
   "source": [
    "linreg = LinearRegression()"
   ]
  },
  {
   "cell_type": "code",
   "execution_count": 4,
   "metadata": {},
   "outputs": [],
   "source": [
    "x = x.reshape(-1, 1)"
   ]
  },
  {
   "cell_type": "code",
   "execution_count": 5,
   "metadata": {},
   "outputs": [
    {
     "data": {
      "text/plain": [
       "LinearRegression()"
      ]
     },
     "execution_count": 5,
     "metadata": {},
     "output_type": "execute_result"
    }
   ],
   "source": [
    "linreg.fit(x, y)"
   ]
  },
  {
   "cell_type": "code",
   "execution_count": 6,
   "metadata": {},
   "outputs": [],
   "source": [
    "y_pred = linreg.predict(x)"
   ]
  },
  {
   "cell_type": "code",
   "execution_count": 7,
   "metadata": {},
   "outputs": [
    {
     "data": {
      "image/png": "[encoded data removed]",
      "text/plain": [
       "<Figure size 432x288 with 1 Axes>"
      ]
     },
     "metadata": {
      "needs_background": "light"
     },
     "output_type": "display_data"
    }
   ],
   "source": [
    "plt.scatter(x,y)\n",
    "plt.plot(x, y_pred, color='red')\n",
    "plt.show()"
   ]
  },
  {
   "cell_type": "code",
   "execution_count": 8,
   "metadata": {},
   "outputs": [
    {
     "name": "stdout",
     "output_type": "stream",
     "text": [
      "[-0.00108057]\n"
     ]
    }
   ],
   "source": [
    "print(linreg.coef_)"
   ]
  },
  {
   "cell_type": "code",
   "execution_count": 9,
   "metadata": {},
   "outputs": [
    {
     "name": "stdout",
     "output_type": "stream",
     "text": [
      "1.2314976317570108\n"
     ]
    }
   ],
   "source": [
    "print(linreg.intercept_)"
   ]
  },
  {
   "cell_type": "code",
   "execution_count": null,
   "metadata": {},
   "outputs": [],
   "source": []
  }
 ],
 "metadata": {
  "kernelspec": {
   "display_name": "Python 3",
   "language": "python",
   "name": "python3"
  },
  "language_info": {
   "codemirror_mode": {
    "name": "ipython",
    "version": 3
   },
   "file_extension": ".py",
   "mimetype": "text/x-python",
   "name": "python",
   "nbconvert_exporter": "python",
   "pygments_lexer": "ipython3",
   "version": "3.8.5"
  }
 },
 "nbformat": 4,
 "nbformat_minor": 4
}
